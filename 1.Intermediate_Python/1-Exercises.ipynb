{
 "cells": [
  {
   "cell_type": "markdown",
   "metadata": {},
   "source": [
    "#### Lambda Expressions"
   ]
  },
  {
   "cell_type": "markdown",
   "metadata": {},
   "source": [
    "Suppose we have an embedded list. The first item is the author. The second is a list of their books. "
   ]
  },
  {
   "cell_type": "code",
   "execution_count": 2,
   "metadata": {},
   "outputs": [],
   "source": [
    "library = [\n",
    "           ['Stefan Zweig', ['The World of Yesterday']],\n",
    "           ['William Shakespeare',['Hamlet','Othello']],\n",
    "           ['Friedrich Schiller',['Wallenstein','On the Aesthetic Education of Man']],\n",
    "           ['Leila Slimani',['Chanson Douce']],\n",
    "           ['Kazuo Ishiguro',['Unconsoled']],\n",
    "           ['Virginia Woolf', ['To the Lighthouse']]\n",
    "]"
   ]
  },
  {
   "cell_type": "markdown",
   "metadata": {},
   "source": [
    "Using the sort function, sort the list based on last name. First, use an ordinary function as an argument to sort. Then use lambda expression as the argument to the function.\n",
    "\n",
    "Hint: You will need to use split()"
   ]
  },
  {
   "cell_type": "code",
   "execution_count": 3,
   "metadata": {},
   "outputs": [],
   "source": [
    "library.sort(key=lambda x:x[0].split()[1])"
   ]
  },
  {
   "cell_type": "code",
   "execution_count": 4,
   "metadata": {},
   "outputs": [
    {
     "data": {
      "text/plain": [
       "[['Kazuo Ishiguro', ['Unconsoled']],\n",
       " ['Friedrich Schiller', ['Wallenstein', 'On the Aesthetic Education of Man']],\n",
       " ['William Shakespeare', ['Hamlet', 'Othello']],\n",
       " ['Leila Slimani', ['Chanson Douce']],\n",
       " ['Virginia Woolf', ['To the Lighthouse']],\n",
       " ['Stefan Zweig', ['The World of Yesterday']]]"
      ]
     },
     "execution_count": 4,
     "metadata": {},
     "output_type": "execute_result"
    }
   ],
   "source": [
    "library"
   ]
  },
  {
   "cell_type": "code",
   "execution_count": null,
   "metadata": {},
   "outputs": [],
   "source": []
  }
 ],
 "metadata": {
  "kernelspec": {
   "display_name": "Python 3",
   "language": "python",
   "name": "python3"
  },
  "language_info": {
   "codemirror_mode": {
    "name": "ipython",
    "version": 3
   },
   "file_extension": ".py",
   "mimetype": "text/x-python",
   "name": "python",
   "nbconvert_exporter": "python",
   "pygments_lexer": "ipython3",
   "version": "3.6.8"
  }
 },
 "nbformat": 4,
 "nbformat_minor": 2
}
