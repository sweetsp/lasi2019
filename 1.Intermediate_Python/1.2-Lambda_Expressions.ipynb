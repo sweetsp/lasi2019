{
 "cells": [
  {
   "cell_type": "markdown",
   "metadata": {},
   "source": [
    "# LASI 2019\n",
    "# 1. Intermediate Python\n",
    "### 1.2 Lambda Expressions\n",
    "\n",
    "\n",
    " Instructors: Alfred Essa, Lalitha Agnihotri, Shirin Mojarad"
   ]
  },
  {
   "cell_type": "markdown",
   "metadata": {},
   "source": [
    "### Learning Objectives\n",
    "\n",
    "- 1.1 Understand the concept of *anonymous functions*. A function is anonymous if it has no name. In Python anonymous functions are expressed as *lambda expressions*. The concept of lambda expressions derives from Alonzo Church's lambda calculus.  "
   ]
  },
  {
   "cell_type": "markdown",
   "metadata": {},
   "source": [
    "### 1.20 Anonymous Functions, Lambda Expressions\n",
    "\n",
    "What is the use of a name? \n",
    "\n",
    "Names are useful as if an individual appears and re-appears. But what if an individual appears on the stage, performs their role, then never appears again. \n",
    "\n",
    "Lambda expressions are a way to utilize functions that appear on stage once, make their exit, and never reappear. Hence, we don't need to name them. \n",
    "\n",
    "Anonymous functions are useful when we need to pass functions as arguments to other functions. We will see that later that in Python functions are first-class objects, meaning they can accept other functions as arguments as well as return functions.\n",
    "\n",
    "In this section we will learn how to construct anonymous functions. In later sections we will use how to apply them in a variety of contexts.\n"
   ]
  },
  {
   "cell_type": "markdown",
   "metadata": {},
   "source": [
    "### 1.21 Typical Function\n",
    "\n",
    "Let's consider an ordinary function which accepts two arguments and returns their sum."
   ]
  },
  {
   "cell_type": "code",
   "execution_count": 1,
   "metadata": {},
   "outputs": [],
   "source": [
    "def add(x,y):\n",
    "    \"\"\"accepts two arguments as input and returns their sum as output\"\"\"\n",
    "    return(x+y)"
   ]
  },
  {
   "cell_type": "code",
   "execution_count": 2,
   "metadata": {},
   "outputs": [
    {
     "data": {
      "text/plain": [
       "5"
      ]
     },
     "execution_count": 2,
     "metadata": {},
     "output_type": "execute_result"
    }
   ],
   "source": [
    "add(2,3)"
   ]
  },
  {
   "cell_type": "markdown",
   "metadata": {},
   "source": [
    "### 1.22 Lambda Equivalent\n",
    "\n",
    "Here is the lambda equivalent:"
   ]
  },
  {
   "cell_type": "code",
   "execution_count": 3,
   "metadata": {},
   "outputs": [
    {
     "data": {
      "text/plain": [
       "<function __main__.<lambda>>"
      ]
     },
     "execution_count": 3,
     "metadata": {},
     "output_type": "execute_result"
    }
   ],
   "source": [
    " lambda x,y: x+y"
   ]
  },
  {
   "cell_type": "markdown",
   "metadata": {},
   "source": [
    "Notice that *def* keyword has disappeared. So has the function name *add*. And the keyword *return*. \n",
    "\n",
    "In their place we add the keyword *lambda* and collapse the function into a single line.\n",
    "\n",
    "*General form*:\n",
    "\n",
    "*lambda* arg1, arg2, ..argn: operation"
   ]
  },
  {
   "cell_type": "markdown",
   "metadata": {},
   "source": [
    "If we execute the function, it doesn't do anything. At this point, it's just ethereal.\n",
    "\n",
    "We can always assign a lambda expression to a variable. The variable is then that function. Then we call the function through the variable."
   ]
  },
  {
   "cell_type": "code",
   "execution_count": 4,
   "metadata": {},
   "outputs": [],
   "source": [
    "f = lambda x,y: x+y"
   ]
  },
  {
   "cell_type": "code",
   "execution_count": 5,
   "metadata": {},
   "outputs": [
    {
     "data": {
      "text/plain": [
       "5"
      ]
     },
     "execution_count": 5,
     "metadata": {},
     "output_type": "execute_result"
    }
   ],
   "source": [
    "f(2,3)"
   ]
  },
  {
   "cell_type": "markdown",
   "metadata": {},
   "source": [
    "This works. But then you are probably asking yourself, what's the point? We could have just written the function as usual with the name f. Why this confusing rigmarole?\n",
    "\n",
    "Functions defined using lambda expressions become useful when they are passed as arguments to other functions. A good example is the sort function in Python."
   ]
  },
  {
   "cell_type": "code",
   "execution_count": 6,
   "metadata": {},
   "outputs": [],
   "source": [
    "# let's define an embedded list. Each of the items in the list library is itself a list. \n",
    "# the first item in the inner list is author name. The second item is another list of the\n",
    "# author's writings.\n",
    "\n",
    "library = [\n",
    "           ['Stefan Zweig', ['The World of Yesterday']],\n",
    "           ['William Shakespeare',['Hamlet','Othello']],\n",
    "           ['Friedrich Schiller',['Wallenstein','On the Aesthetic Education of Man']],\n",
    "           ['Leila Slimani',['Chanson Douce']],\n",
    "           ['Kazuo Ishiguro',['Unconsoled']],\n",
    "           ['Virginia Woolf', ['To the Lighthouse']]\n",
    "]       "
   ]
  },
  {
   "cell_type": "markdown",
   "metadata": {},
   "source": [
    "### 1.23 Sort Method for Lists"
   ]
  },
  {
   "cell_type": "code",
   "execution_count": 7,
   "metadata": {},
   "outputs": [],
   "source": [
    "# we can use the sort method to sort the list\n",
    "library.sort()"
   ]
  },
  {
   "cell_type": "code",
   "execution_count": 8,
   "metadata": {},
   "outputs": [
    {
     "data": {
      "text/plain": [
       "[['Friedrich Schiller', ['Wallenstein', 'On the Aesthetic Education of Man']],\n",
       " ['Kazuo Ishiguro', ['Unconsoled']],\n",
       " ['Leila Slimani', ['Chanson Douce']],\n",
       " ['Stefan Zweig', ['The World of Yesterday']],\n",
       " ['Virginia Woolf', ['To the Lighthouse']],\n",
       " ['William Shakespeare', ['Hamlet', 'Othello']]]"
      ]
     },
     "execution_count": 8,
     "metadata": {},
     "output_type": "execute_result"
    }
   ],
   "source": [
    "# what we get is the library list sorted by first name\n",
    "library"
   ]
  },
  {
   "cell_type": "markdown",
   "metadata": {},
   "source": [
    "### 1.24 Custom Sort with Ordinary Function"
   ]
  },
  {
   "cell_type": "markdown",
   "metadata": {},
   "source": [
    "But what if we want to sort the list according to some other order? What if we want to sort the list by the first book in the inner list? Or, how about sorting it according to last name, not first name? The sort method for lists accepts functions as arguments and this allows for creating custom sorts.\n",
    "\n",
    "We will sort the list based on the first book on the list. We will leave as an exercise sorting according to last name."
   ]
  },
  {
   "cell_type": "code",
   "execution_count": 9,
   "metadata": {},
   "outputs": [],
   "source": [
    "# define function which takes\n",
    "def book(lib):\n",
    "    print(lib[0][1][0])\n",
    "    return lib[0][1][0]"
   ]
  },
  {
   "cell_type": "code",
   "execution_count": 10,
   "metadata": {},
   "outputs": [
    {
     "name": "stdout",
     "output_type": "stream",
     "text": [
      "Wallenstein\n"
     ]
    },
    {
     "data": {
      "text/plain": [
       "'Wallenstein'"
      ]
     },
     "execution_count": 10,
     "metadata": {},
     "output_type": "execute_result"
    }
   ],
   "source": [
    "book(library)"
   ]
  },
  {
   "cell_type": "code",
   "execution_count": 11,
   "metadata": {},
   "outputs": [
    {
     "name": "stdout",
     "output_type": "stream",
     "text": [
      "r\n",
      "a\n",
      "e\n",
      "t\n",
      "i\n",
      "i\n"
     ]
    }
   ],
   "source": [
    "library.sort(key=book)"
   ]
  },
  {
   "cell_type": "code",
   "execution_count": 17,
   "metadata": {},
   "outputs": [
    {
     "data": {
      "text/plain": [
       "'Friedrich Schiller'"
      ]
     },
     "execution_count": 17,
     "metadata": {},
     "output_type": "execute_result"
    }
   ],
   "source": [
    "library[1][0]"
   ]
  },
  {
   "cell_type": "code",
   "execution_count": 13,
   "metadata": {},
   "outputs": [],
   "source": [
    "library.sort(key=lambda x:x[1][0])"
   ]
  },
  {
   "cell_type": "code",
   "execution_count": 14,
   "metadata": {},
   "outputs": [
    {
     "data": {
      "text/plain": [
       "[['Leila Slimani', ['Chanson Douce']],\n",
       " ['William Shakespeare', ['Hamlet', 'Othello']],\n",
       " ['Stefan Zweig', ['The World of Yesterday']],\n",
       " ['Virginia Woolf', ['To the Lighthouse']],\n",
       " ['Kazuo Ishiguro', ['Unconsoled']],\n",
       " ['Friedrich Schiller', ['Wallenstein', 'On the Aesthetic Education of Man']]]"
      ]
     },
     "execution_count": 14,
     "metadata": {},
     "output_type": "execute_result"
    }
   ],
   "source": [
    "library"
   ]
  },
  {
   "cell_type": "code",
   "execution_count": 15,
   "metadata": {},
   "outputs": [],
   "source": [
    "library.sort(key=lambda x:x[0].split()[1])"
   ]
  },
  {
   "cell_type": "code",
   "execution_count": 16,
   "metadata": {},
   "outputs": [
    {
     "data": {
      "text/plain": [
       "[['Kazuo Ishiguro', ['Unconsoled']],\n",
       " ['Friedrich Schiller', ['Wallenstein', 'On the Aesthetic Education of Man']],\n",
       " ['William Shakespeare', ['Hamlet', 'Othello']],\n",
       " ['Leila Slimani', ['Chanson Douce']],\n",
       " ['Virginia Woolf', ['To the Lighthouse']],\n",
       " ['Stefan Zweig', ['The World of Yesterday']]]"
      ]
     },
     "execution_count": 16,
     "metadata": {},
     "output_type": "execute_result"
    }
   ],
   "source": [
    "library"
   ]
  },
  {
   "cell_type": "code",
   "execution_count": null,
   "metadata": {},
   "outputs": [],
   "source": []
  }
 ],
 "metadata": {
  "kernelspec": {
   "display_name": "Python 3",
   "language": "python",
   "name": "python3"
  },
  "language_info": {
   "codemirror_mode": {
    "name": "ipython",
    "version": 3
   },
   "file_extension": ".py",
   "mimetype": "text/x-python",
   "name": "python",
   "nbconvert_exporter": "python",
   "pygments_lexer": "ipython3",
   "version": "3.6.8"
  }
 },
 "nbformat": 4,
 "nbformat_minor": 2
}
