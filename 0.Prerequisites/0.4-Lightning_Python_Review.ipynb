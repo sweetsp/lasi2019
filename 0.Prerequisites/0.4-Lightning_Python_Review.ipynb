{
 "cells": [
  {
   "cell_type": "markdown",
   "metadata": {},
   "source": [
    "# LASI 2019\n",
    "# 0. Lightning Python Review \n",
    "\n",
    "\n",
    " Instructors: Alfred Essa, Lalitha Agnihotri, Shirin Mojarad"
   ]
  },
  {
   "cell_type": "markdown",
   "metadata": {},
   "source": [
    "### Learning Objectives\n",
    "\n",
    "* 0.4 Use **branching** or conditionals with _if_, _elif_, and _else_\n"
   ]
  },
  {
   "cell_type": "markdown",
   "metadata": {},
   "source": [
    "### 0.41 Simple If statement"
   ]
  },
  {
   "cell_type": "markdown",
   "metadata": {},
   "source": [
    "Conditions are True or False. This becomes the basis for branching in computations using the if statement. If the condition is True, execute the indented statement or block. If False, skip the statement or block."
   ]
  },
  {
   "cell_type": "code",
   "execution_count": 7,
   "metadata": {},
   "outputs": [
    {
     "name": "stdout",
     "output_type": "stream",
     "text": [
      "Congratulations! You qualify for the Admiral's Club!\n"
     ]
    }
   ],
   "source": [
    "points = 11223\n",
    "if points >5000:\n",
    "    print(\"Congratulations! You qualify for the Admiral's Club!\" )"
   ]
  },
  {
   "cell_type": "markdown",
   "metadata": {},
   "source": [
    "### 0.42 if - else statement"
   ]
  },
  {
   "cell_type": "markdown",
   "metadata": {},
   "source": [
    "Often there is a choice of two possibilities, only one of which will be done, depending on the truth of a condition."
   ]
  },
  {
   "cell_type": "code",
   "execution_count": 14,
   "metadata": {},
   "outputs": [],
   "source": [
    "# We define a list of lists. \n",
    "# The first item in the inner list is the name. \n",
    "# The second item in the inner list is the gender.\n",
    "\n",
    "mathematicians = \\\n",
    "[['Gauss','m'],['Noether','f'],['Mirzakhani','f'],['Tao','m'],['Riemann','m'], \\\n",
    "['Perelman', 'm'],['Erdos','m'],['Galois','m'],['Fermat','m'],['Cantor','m']]"
   ]
  },
  {
   "cell_type": "code",
   "execution_count": 15,
   "metadata": {},
   "outputs": [
    {
     "data": {
      "text/plain": [
       "10"
      ]
     },
     "execution_count": 15,
     "metadata": {},
     "output_type": "execute_result"
    }
   ],
   "source": [
    "# We can get the size of the list with the len command\n",
    "len(mathematicians)"
   ]
  },
  {
   "cell_type": "code",
   "execution_count": 16,
   "metadata": {},
   "outputs": [
    {
     "name": "stdout",
     "output_type": "stream",
     "text": [
      "females =  2\n",
      "males =  8\n"
     ]
    }
   ],
   "source": [
    "# We want to count the number of males and females in the list mathematicians\n",
    "females, males = 0,0\n",
    "for mathematician in mathematicians:\n",
    "    if mathematician[1]==\"f\":\n",
    "        females = males + 1\n",
    "    else:\n",
    "        males = males +1\n",
    "print(\"females = \", females)\n",
    "print(\"males = \", males)"
   ]
  },
  {
   "cell_type": "markdown",
   "metadata": {},
   "source": [
    "### 0.43 Multiple Test: if - elif - else statement\n",
    "\n",
    "Sometimes we want to distinguish between multiple cases or conditions. This is done with if-elif-else statement."
   ]
  },
  {
   "cell_type": "raw",
   "metadata": {},
   "source": [
    "if condition1 :\n",
    "   indentedStatementBlockForTrueCondition1\n",
    "elif condition2 :\n",
    "   indentedStatementBlockForFirstTrueCondition2\n",
    "elif condition3 :\n",
    "   indentedStatementBlockForFirstTrueCondition3\n",
    "elif condition4 :\n",
    "   indentedStatementBlockForFirstTrueCondition4\n",
    "else:\n",
    "   indentedStatementBlockForEachConditionFalse"
   ]
  },
  {
   "cell_type": "code",
   "execution_count": null,
   "metadata": {},
   "outputs": [],
   "source": [
    "import numpy as np\n",
    "\n",
    "my_int = int(input(\"Enter an integer between 1 and 100: \"))\n",
    "\n",
    "\n",
    "lucky_num = np.random.randint(1,101)\n",
    "print(\"Lucky Number is: \", lucky_num)\n",
    "\n",
    "\n",
    "if (my_int>100 or my_int<5):\n",
    "    print(\"Dude. Your integer is not between 5 and 100\")\n",
    "elif (my_int==lucky_num):\n",
    "    print(\"Dude. You win first prize\")\n",
    "elif (my_int==lucky_num+1):\n",
    "    print(\"Dude. You won second prize\")\n",
    "elif (my_int==lucky_num-1):\n",
    "    print(\"Dude. You won third prize\")\n",
    "else:\n",
    "    print(\"Dude. You lose\")"
   ]
  }
 ],
 "metadata": {
  "kernelspec": {
   "display_name": "Python 3",
   "language": "python",
   "name": "python3"
  },
  "language_info": {
   "codemirror_mode": {
    "name": "ipython",
    "version": 3
   },
   "file_extension": ".py",
   "mimetype": "text/x-python",
   "name": "python",
   "nbconvert_exporter": "python",
   "pygments_lexer": "ipython3",
   "version": "3.6.8"
  }
 },
 "nbformat": 4,
 "nbformat_minor": 2
}
