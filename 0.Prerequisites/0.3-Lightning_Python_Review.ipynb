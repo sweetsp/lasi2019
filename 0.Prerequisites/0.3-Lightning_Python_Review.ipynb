{
 "cells": [
  {
   "cell_type": "markdown",
   "metadata": {},
   "source": [
    "# LASI 2019\n",
    "# 0. Lightning Python Review \n",
    "\n",
    "\n",
    " Instructors: Alfred Essa, Lalitha Agnihotri, Shirin Mojarad"
   ]
  },
  {
   "cell_type": "markdown",
   "metadata": {},
   "source": [
    "### Learning Objectives\n",
    "\n",
    "* 0.3 Use **iteration** with _for_ and _while_ loops\n"
   ]
  },
  {
   "cell_type": "markdown",
   "metadata": {},
   "source": [
    "## 0.3 Iteration \n",
    "\n",
    "In Python iteration is performed with for and while loops"
   ]
  },
  {
   "cell_type": "markdown",
   "metadata": {},
   "source": [
    "### 3.1 for loops"
   ]
  },
  {
   "cell_type": "code",
   "execution_count": 1,
   "metadata": {},
   "outputs": [],
   "source": [
    "mathematicians = ['Gauss','Noether','Fermat','Tao','Noether','Ramanujan','Lefschetz']"
   ]
  },
  {
   "cell_type": "code",
   "execution_count": 2,
   "metadata": {},
   "outputs": [
    {
     "name": "stdout",
     "output_type": "stream",
     "text": [
      "Gauss\n",
      "Noether\n",
      "Fermat\n",
      "Tao\n",
      "Noether\n",
      "Ramanujan\n",
      "Lefschetz\n"
     ]
    }
   ],
   "source": [
    "for mathematician in mathematicians:\n",
    "    print(mathematician)"
   ]
  },
  {
   "cell_type": "code",
   "execution_count": 5,
   "metadata": {},
   "outputs": [
    {
     "name": "stdout",
     "output_type": "stream",
     "text": [
      "green\n",
      "red\n",
      "blue\n",
      "ochre\n",
      "magenta\n"
     ]
    }
   ],
   "source": [
    "colours = ['green','red','blue','ochre','magenta']\n",
    "for color in colours:\n",
    "    print(color)"
   ]
  },
  {
   "cell_type": "code",
   "execution_count": 6,
   "metadata": {},
   "outputs": [
    {
     "name": "stdout",
     "output_type": "stream",
     "text": [
      "0\n",
      "1\n",
      "4\n",
      "9\n",
      "16\n",
      "25\n",
      "36\n",
      "49\n",
      "64\n",
      "81\n"
     ]
    }
   ],
   "source": [
    "#range is commonly used to iterate over a sequence a specific number of times\n",
    "for number in range(10):\n",
    "    print(number**2)"
   ]
  },
  {
   "cell_type": "code",
   "execution_count": 7,
   "metadata": {},
   "outputs": [
    {
     "name": "stdout",
     "output_type": "stream",
     "text": [
      "1\n",
      "2\n",
      "3\n",
      "4\n",
      "5\n",
      "6\n",
      "7\n",
      "8\n",
      "9\n",
      "10\n"
     ]
    }
   ],
   "source": [
    "# range begins at 0, but we can specify start and stop\n",
    "for number in range(1,11):\n",
    "    print(number)"
   ]
  },
  {
   "cell_type": "code",
   "execution_count": 10,
   "metadata": {},
   "outputs": [
    {
     "data": {
      "text/plain": [
       "['Gauss', 'Noether', 'Fermat', 'Tao', 'Noether', 'Ramanujan', 'Lefschetz']"
      ]
     },
     "execution_count": 10,
     "metadata": {},
     "output_type": "execute_result"
    }
   ],
   "source": [
    "mathematicians"
   ]
  },
  {
   "cell_type": "markdown",
   "metadata": {},
   "source": [
    "### while loops"
   ]
  },
  {
   "cell_type": "code",
   "execution_count": 11,
   "metadata": {},
   "outputs": [
    {
     "name": "stdout",
     "output_type": "stream",
     "text": [
      "5 Gauss\n",
      "7 Noether\n",
      "6 Fermat\n",
      "3 Tao\n",
      "7 Noether\n",
      "9 Ramanujan\n"
     ]
    }
   ],
   "source": [
    "# we can use while to iterate until some condition is true or false\n",
    "# note the loop stops when it reaches Ramanujan\n",
    "length,i = 0,0\n",
    "while (length<8):\n",
    "    length=len(mathematicians[i])\n",
    "    print(length,mathematicians[i])\n",
    "    i=i+1\n",
    "    "
   ]
  }
 ],
 "metadata": {
  "kernelspec": {
   "display_name": "Python 3",
   "language": "python",
   "name": "python3"
  },
  "language_info": {
   "codemirror_mode": {
    "name": "ipython",
    "version": 3
   },
   "file_extension": ".py",
   "mimetype": "text/x-python",
   "name": "python",
   "nbconvert_exporter": "python",
   "pygments_lexer": "ipython3",
   "version": "3.6.8"
  }
 },
 "nbformat": 4,
 "nbformat_minor": 2
}
